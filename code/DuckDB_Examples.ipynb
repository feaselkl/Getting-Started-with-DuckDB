{
 "cells": [
  {
   "cell_type": "code",
   "execution_count": 2,
   "metadata": {},
   "outputs": [],
   "source": [
    "import duckdb\n",
    "import pandas as pd"
   ]
  },
  {
   "cell_type": "code",
   "execution_count": 2,
   "metadata": {},
   "outputs": [
    {
     "name": "stdout",
     "output_type": "stream",
     "text": [
      "┌───────┐\n",
      "│   X   │\n",
      "│ int32 │\n",
      "├───────┤\n",
      "│    42 │\n",
      "└───────┘\n",
      "\n"
     ]
    }
   ],
   "source": [
    "# TODO: explain why we create a connection\n",
    "con = duckdb.connect()\n",
    "con.sql(\"SELECT 42 as X\").show()\n",
    "con.close()"
   ]
  },
  {
   "cell_type": "code",
   "execution_count": 3,
   "metadata": {},
   "outputs": [
    {
     "name": "stdout",
     "output_type": "stream",
     "text": [
      "┌───────┐\n",
      "│   i   │\n",
      "│ int32 │\n",
      "├───────┤\n",
      "│    42 │\n",
      "└───────┘\n",
      "\n"
     ]
    }
   ],
   "source": [
    "with duckdb.connect(\"duckdbdata/file.db\") as con:\n",
    "    con.sql(\"CREATE TABLE test (i INTEGER)\")\n",
    "    con.sql(\"INSERT INTO test VALUES (42)\")\n",
    "    con.table(\"test\").show()"
   ]
  },
  {
   "cell_type": "code",
   "execution_count": 42,
   "metadata": {},
   "outputs": [],
   "source": [
    "con = duckdb.connect(\"../duckdbdata/chicago.db\")"
   ]
  },
  {
   "cell_type": "code",
   "execution_count": 5,
   "metadata": {},
   "outputs": [],
   "source": [
    "df1 = pd.read_parquet(\"../duckdbdata/ChicagoParkingTickets.parquet\")"
   ]
  },
  {
   "cell_type": "code",
   "execution_count": null,
   "metadata": {},
   "outputs": [],
   "source": [
    "con.execute(\"CREATE TABLE ChicagoParkingTickets AS SELECT * FROM df1\")"
   ]
  },
  {
   "cell_type": "code",
   "execution_count": 6,
   "metadata": {},
   "outputs": [
    {
     "name": "stdout",
     "output_type": "stream",
     "text": [
      "┌───────────────┬─────────────────────┬────────────────┬────────────────────┬────────────────────┬────────────────┬───────────────────┬────────────────────┬─────────────────────────┬──────────────────────────────────┬──────────────┬───────┬──────────┬───────┬─────────────────┬────────────┬─────────────────────┬─────────┬──────────────┬────────────┬──────────────────────┐\n",
      "│ Ticket_number │     Issued_date     │ Community_Name │       Sector       │        Side        │ Hardship_Index │ Per_capita_income │ Percent_unemployed │ Percent_without_diploma │ Percent_households_below_poverty │ Neighborhood │ Ward  │  Tract   │  ZIP  │ Police_District │ Plate_Type │ License_Plate_State │ Unit_ID │ Violation_ID │ Officer_ID │ PaymentIsOutstanding │\n",
      "│     int64     │       varchar       │    varchar     │      varchar       │      varchar       │     double     │      double       │       double       │         double          │              double              │   varchar    │ int64 │  double  │ int64 │     double      │  varchar   │       varchar       │  int64  │    int64     │   int64    │        int64         │\n",
      "├───────────────┼─────────────────────┼────────────────┼────────────────────┼────────────────────┼────────────────┼───────────────────┼────────────────────┼─────────────────────────┼──────────────────────────────────┼──────────────┼───────┼──────────┼───────┼─────────────────┼────────────┼─────────────────────┼─────────┼──────────────┼────────────┼──────────────────────┤\n",
      "│      15819420 │ 1996-01-01 00:00:00 │ Loop           │ Loop               │ Central            │            3.0 │           65526.0 │                5.7 │                     3.1 │                             14.7 │ L            │    42 │ 839100.0 │ 60603 │             1.0 │ PAS        │ IL                  │       0 │            2 │      58786 │                    0 │\n",
      "│      16623975 │ 1996-01-01 00:00:00 │ Austin         │ Other W Side       │ West Side          │           73.0 │           15957.0 │               22.6 │                    24.4 │                             28.6 │ A3           │    37 │ 250300.0 │ 60639 │            25.0 │ PAS        │ IL                  │       0 │           65 │      43177 │                    1 │\n",
      "│      17326862 │ 1996-01-01 00:00:00 │ West Englewood │ Other S/SE/SW Side │ Southwest Side     │           89.0 │           11317.0 │               35.9 │                    26.3 │                             34.4 │ E2           │    17 │ 671800.0 │ 60636 │             7.0 │ PAS        │ IL                  │       0 │           28 │       9503 │                    1 │\n",
      "│      15868742 │ 1996-01-01 00:10:00 │ West Town      │ West Town          │ West Side          │           10.0 │           43198.0 │                6.6 │                    12.9 │                             14.7 │ WT           │    27 │ 243500.0 │ 60642 │            12.0 │ PAS        │ IL                  │       0 │           28 │      16840 │                    0 │\n",
      "│      17440061 │ 1996-01-01 00:20:00 │ Logan Square   │ Logan Square       │ North Side         │           23.0 │           31908.0 │                8.2 │                    14.8 │                             16.8 │ LS2          │    35 │ 220901.0 │ 60647 │            25.0 │ PAS        │ IL                  │       0 │           65 │      38180 │                    0 │\n",
      "│      17331632 │ 1996-01-01 00:23:00 │ Austin         │ Other W Side       │ West Side          │           73.0 │           15957.0 │               22.6 │                    24.4 │                             28.6 │ A3           │    37 │ 251900.0 │ 60644 │            15.0 │ PAS        │ IL                  │       0 │            1 │      29566 │                    0 │\n",
      "│      15868711 │ 1996-01-01 00:25:00 │ West Town      │ West Town          │ West Side          │           10.0 │           43198.0 │                6.6 │                    12.9 │                             14.7 │ WT           │    27 │ 243500.0 │ 60642 │            12.0 │ PAS        │ IL                  │       0 │            1 │      22544 │                    0 │\n",
      "│      15932156 │ 1996-01-01 00:26:00 │ Rogers Park    │ Other N/NW Side    │ Far North Side     │           39.0 │           23939.0 │                8.7 │                    18.2 │                             23.6 │ RP           │    49 │  10701.0 │ 60626 │            24.0 │ PAS        │ IL                  │       0 │           28 │      36048 │                    1 │\n",
      "│      15932157 │ 1996-01-01 00:27:00 │ Rogers Park    │ Other N/NW Side    │ Far North Side     │           39.0 │           23939.0 │                8.7 │                    18.2 │                             23.6 │ RP           │    49 │  10701.0 │ 60626 │            24.0 │ PAS        │ IL                  │       0 │           28 │      36048 │                    1 │\n",
      "│      15868713 │ 1996-01-01 00:30:00 │ West Town      │ West Town          │ West Side          │           10.0 │           43198.0 │                6.6 │                    12.9 │                             14.7 │ WT           │    27 │ 842300.0 │ 60654 │            12.0 │ PAS        │ IL                  │       0 │          148 │      22544 │                    0 │\n",
      "│          ·    │          ·          │     ·          │     ·              │     ·              │             ·  │              ·    │                 ·  │                      ·  │                               ·  │ ·            │     · │     ·    │   ·   │              ·  │  ·         │ ·                   │       · │           ·  │        ·   │                    · │\n",
      "│          ·    │          ·          │     ·          │     ·              │     ·              │             ·  │              ·    │                 ·  │                      ·  │                               ·  │ ·            │     · │     ·    │   ·   │              ·  │  ·         │ ·                   │       · │           ·  │        ·   │                    · │\n",
      "│          ·    │          ·          │     ·          │     ·              │     ·              │             ·  │              ·    │                 ·  │                      ·  │                               ·  │ ·            │     · │     ·    │   ·   │              ·  │  ·         │ ·                   │       · │           ·  │        ·   │                    · │\n",
      "│      17011042 │ 1996-01-12 10:30:00 │ South Deering  │ Other S/SE/SW Side │ Far Southeast Side │           65.0 │           14685.0 │               16.3 │                    21.0 │                             29.2 │ SD           │     7 │ 510300.0 │ 60617 │             4.0 │ PAS        │ IL                  │       0 │          113 │      59915 │                    1 │\n",
      "│      17014784 │ 1996-01-12 10:30:00 │ Hyde Park      │ Other S/SE/SW Side │ South Side         │           14.0 │           39056.0 │                8.4 │                     4.3 │                             18.4 │ HP2          │     5 │ 410800.0 │ 60615 │             2.0 │ PAS        │ IL                  │       0 │            1 │       6773 │                    0 │\n",
      "│      17359647 │ 1996-01-12 10:30:00 │ Hyde Park      │ Other S/SE/SW Side │ South Side         │           14.0 │           39056.0 │                8.4 │                     4.3 │                             18.4 │ HP2          │     5 │ 836200.0 │ 60637 │             2.0 │ PAS        │ IL                  │       0 │            1 │      52660 │                    0 │\n",
      "│      17444033 │ 1996-01-12 10:30:00 │ Hermosa        │ Other N/NW Side    │ Northwest Side     │           71.0 │           15089.0 │               13.1 │                    41.6 │                             20.5 │ H2           │    31 │ 200100.0 │ 60641 │            25.0 │ RVM        │ IL                  │       0 │           89 │      38535 │                    0 │\n",
      "│    9004433698 │ 1996-01-12 10:31:00 │ Loop           │ Loop               │ Central            │            3.0 │           65526.0 │                5.7 │                     3.1 │                             14.7 │ L            │    42 │ 839100.0 │ 60606 │             1.0 │ PAS        │ IL                  │       0 │          123 │      18564 │                    1 │\n",
      "│      15869719 │ 1996-01-12 10:32:00 │ West Town      │ West Town          │ West Side          │           10.0 │           43198.0 │                6.6 │                    12.9 │                             14.7 │ WT           │    34 │ 842300.0 │ 60661 │            12.0 │ PAS        │ IL                  │       0 │          114 │       6793 │                    0 │\n",
      "│      15876135 │ 1996-01-12 10:33:00 │ Lake View      │ Lake View          │ North Side         │            5.0 │           60058.0 │                4.7 │                     2.6 │                             11.4 │ LV2          │    44 │  63000.0 │ 60657 │            19.0 │ PAS        │ IL                  │       0 │          163 │      41286 │                    0 │\n",
      "│      16220729 │ 1996-01-12 10:33:00 │ Near West Side │ Near West Side     │ West Side          │           15.0 │           44689.0 │               10.7 │                     9.6 │                             20.6 │ LI           │    27 │ 838200.0 │ 60612 │            12.0 │ PAS        │ IL                  │       0 │          182 │      18790 │                    0 │\n",
      "│      17444293 │ 1996-01-12 10:33:00 │ Belmont Cragin │ Other N/NW Side    │ Northwest Side     │           70.0 │           15461.0 │               14.6 │                    37.3 │                             18.7 │ BC           │    31 │ 190200.0 │ 60641 │            25.0 │ PAS        │ IL                  │       0 │            1 │      33444 │                    0 │\n",
      "│    9004433699 │ 1996-01-12 10:33:00 │ Loop           │ Loop               │ Central            │            3.0 │           65526.0 │                5.7 │                     3.1 │                             14.7 │ L            │    42 │ 320100.0 │ 60601 │             1.0 │ PAS        │ IL                  │       0 │            2 │      18564 │                    0 │\n",
      "├───────────────┴─────────────────────┴────────────────┴────────────────────┴────────────────────┴────────────────┴───────────────────┴────────────────────┴─────────────────────────┴──────────────────────────────────┴──────────────┴───────┴──────────┴───────┴─────────────────┴────────────┴─────────────────────┴─────────┴──────────────┴────────────┴──────────────────────┤\n",
      "│ ? rows (>9999 rows, 20 shown)                                                                                                                                                                                                                                                                                                                                          21 columns │\n",
      "└───────────────────────────────────────────────────────────────────────────────────────────────────────────────────────────────────────────────────────────────────────────────────────────────────────────────────────────────────────────────────────────────────────────────────────────────────────────────────────────────────────────────────────────────────────────────────┘\n",
      "\n"
     ]
    }
   ],
   "source": [
    "con.table(\"ChicagoParkingTickets\").show()"
   ]
  },
  {
   "cell_type": "code",
   "execution_count": 6,
   "metadata": {},
   "outputs": [
    {
     "data": {
      "text/plain": [
       "┌──────────────────────────────────┬─────────────┬─────────┬─────────┬─────────┬─────────┐\n",
       "│           column_name            │ column_type │  null   │   key   │ default │  extra  │\n",
       "│             varchar              │   varchar   │ varchar │ varchar │ varchar │ varchar │\n",
       "├──────────────────────────────────┼─────────────┼─────────┼─────────┼─────────┼─────────┤\n",
       "│ Ticket_number                    │ BIGINT      │ YES     │ NULL    │ NULL    │ NULL    │\n",
       "│ Issued_date                      │ VARCHAR     │ YES     │ NULL    │ NULL    │ NULL    │\n",
       "│ Community_Name                   │ VARCHAR     │ YES     │ NULL    │ NULL    │ NULL    │\n",
       "│ Sector                           │ VARCHAR     │ YES     │ NULL    │ NULL    │ NULL    │\n",
       "│ Side                             │ VARCHAR     │ YES     │ NULL    │ NULL    │ NULL    │\n",
       "│ Hardship_Index                   │ DOUBLE      │ YES     │ NULL    │ NULL    │ NULL    │\n",
       "│ Per_capita_income                │ DOUBLE      │ YES     │ NULL    │ NULL    │ NULL    │\n",
       "│ Percent_unemployed               │ DOUBLE      │ YES     │ NULL    │ NULL    │ NULL    │\n",
       "│ Percent_without_diploma          │ DOUBLE      │ YES     │ NULL    │ NULL    │ NULL    │\n",
       "│ Percent_households_below_poverty │ DOUBLE      │ YES     │ NULL    │ NULL    │ NULL    │\n",
       "│ Neighborhood                     │ VARCHAR     │ YES     │ NULL    │ NULL    │ NULL    │\n",
       "│ Ward                             │ BIGINT      │ YES     │ NULL    │ NULL    │ NULL    │\n",
       "│ Tract                            │ DOUBLE      │ YES     │ NULL    │ NULL    │ NULL    │\n",
       "│ ZIP                              │ BIGINT      │ YES     │ NULL    │ NULL    │ NULL    │\n",
       "│ Police_District                  │ DOUBLE      │ YES     │ NULL    │ NULL    │ NULL    │\n",
       "│ Plate_Type                       │ VARCHAR     │ YES     │ NULL    │ NULL    │ NULL    │\n",
       "│ License_Plate_State              │ VARCHAR     │ YES     │ NULL    │ NULL    │ NULL    │\n",
       "│ Unit_ID                          │ BIGINT      │ YES     │ NULL    │ NULL    │ NULL    │\n",
       "│ Violation_ID                     │ BIGINT      │ YES     │ NULL    │ NULL    │ NULL    │\n",
       "│ Officer_ID                       │ BIGINT      │ YES     │ NULL    │ NULL    │ NULL    │\n",
       "│ PaymentIsOutstanding             │ BIGINT      │ YES     │ NULL    │ NULL    │ NULL    │\n",
       "├──────────────────────────────────┴─────────────┴─────────┴─────────┴─────────┴─────────┤\n",
       "│ 21 rows                                                                      6 columns │\n",
       "└────────────────────────────────────────────────────────────────────────────────────────┘"
      ]
     },
     "execution_count": 6,
     "metadata": {},
     "output_type": "execute_result"
    }
   ],
   "source": [
    "con.sql(\"DESCRIBE ChicagoParkingTickets\")"
   ]
  },
  {
   "cell_type": "code",
   "execution_count": 7,
   "metadata": {},
   "outputs": [
    {
     "data": {
      "text/plain": [
       "┌──────────────────────────────────┬─────────────┬─────────────────────────┬─────────────────────┬───────────────┬────────────────────┬────────────────────┬────────────────────┬────────────────────┬────────────────────┬──────────┬─────────────────┐\n",
       "│           column_name            │ column_type │           min           │         max         │ approx_unique │        avg         │        std         │        q25         │        q50         │        q75         │  count   │ null_percentage │\n",
       "│             varchar              │   varchar   │         varchar         │       varchar       │     int64     │      varchar       │      varchar       │      varchar       │      varchar       │      varchar       │  int64   │  decimal(9,2)   │\n",
       "├──────────────────────────────────┼─────────────┼─────────────────────────┼─────────────────────┼───────────────┼────────────────────┼────────────────────┼────────────────────┼────────────────────┼────────────────────┼──────────┼─────────────────┤\n",
       "│ Ticket_number                    │ BIGINT      │ 2557                    │ 90580856720         │      52704920 │ 3815828872.517416  │ 4477231828.538204  │ 45655337           │ 64200472           │ 9172210555         │ 49950127 │            0.00 │\n",
       "│ Issued_date                      │ VARCHAR     │ 1996-01-01 00:00:00     │ 2018-05-14 23:50:00 │       8464929 │ NULL               │ NULL               │ NULL               │ NULL               │ NULL               │ 49950127 │            0.00 │\n",
       "│ Community_Name                   │ VARCHAR     │ Albany Park             │ Woodlawn            │            74 │ NULL               │ NULL               │ NULL               │ NULL               │ NULL               │ 49950127 │            0.00 │\n",
       "│ Sector                           │ VARCHAR     │ Garfield Ridge (Midway) │ West Town           │            13 │ NULL               │ NULL               │ NULL               │ NULL               │ NULL               │ 49950127 │            0.00 │\n",
       "│ Side                             │ VARCHAR     │ Central                 │ West Side           │            10 │ NULL               │ NULL               │ NULL               │ NULL               │ NULL               │ 49950127 │            0.00 │\n",
       "│ Hardship_Index                   │ DOUBLE      │ 1.0                     │ 98.0                │            85 │ 37.93427808501868  │ 33.12894372120166  │ 5.046216940317338  │ 26.096470668803565 │ 72.09779095418178  │ 49950127 │            0.00 │\n",
       "│ Per_capita_income                │ DOUBLE      │ 8201.0                  │ 88669.0             │            74 │ 37515.03120810884  │ 24353.19186827673  │ 16236.178721771517 │ 30098.544568417696 │ 60037.54843513367  │ 49950127 │            0.00 │\n",
       "│ Percent_unemployed               │ DOUBLE      │ 4.7                     │ 35.9                │            60 │ 12.393839929622908 │ 7.0132414400674445 │ 6.885547153682927  │ 9.949088766016814  │ 16.997549627858938 │ 49950127 │            0.00 │\n",
       "│ Percent_without_diploma          │ DOUBLE      │ 2.5                     │ 54.8                │            69 │ 17.49231103259321  │ 14.307773513704594 │ 3.6098434888124142 │ 13.943170515630626 │ 25.024235174616138 │ 49950127 │            0.00 │\n",
       "│ Percent_households_below_poverty │ DOUBLE      │ 3.3                     │ 56.5                │            52 │ 20.54877756975     │ 8.95406750339433   │ 12.947150419770631 │ 18.37059760293996  │ 27.80093893576552  │ 49950127 │            0.00 │\n",
       "│ Neighborhood                     │ VARCHAR     │ A1                      │ WT                  │            90 │ NULL               │ NULL               │ NULL               │ NULL               │ NULL               │ 49950127 │            0.00 │\n",
       "│ Ward                             │ BIGINT      │ 1                       │ 50                  │            45 │ 26.73289060906692  │ 14.760257119353716 │ 14                 │ 28                 │ 42                 │ 49950127 │            0.00 │\n",
       "│ Tract                            │ DOUBLE      │ 10100.0                 │ 980100.0            │           809 │ 395846.38714522123 │ 302753.70318461093 │ 81958.33826423711  │ 305671.62728841323 │ 699127.5332715402  │ 49950127 │            0.00 │\n",
       "│ ZIP                              │ BIGINT      │ 60601                   │ 60827               │            58 │ 60627.60636652636  │ 18.660760731236138 │ 60613              │ 60623              │ 60641              │ 49950127 │            0.00 │\n",
       "│ Police_District                  │ DOUBLE      │ 1.0                     │ 25.0                │            22 │ 12.468053315751954 │ 7.027663892740006  │ 7.7793640198405045 │ 12.0               │ 18.0               │ 49950127 │            0.00 │\n",
       "│ Plate_Type                       │ VARCHAR     │ AFR                     │ VAN                 │            49 │ NULL               │ NULL               │ NULL               │ NULL               │ NULL               │ 49950127 │            1.16 │\n",
       "│ License_Plate_State              │ VARCHAR     │ AB                      │ ZZ                  │            71 │ NULL               │ NULL               │ NULL               │ NULL               │ NULL               │ 49950127 │            0.00 │\n",
       "│ Unit_ID                          │ BIGINT      │ 0                       │ 10002               │           227 │ 238.58432906486905 │ 246.5546259538746  │ 13                 │ 38                 │ 498                │ 49950127 │            0.00 │\n",
       "│ Violation_ID                     │ BIGINT      │ 0                       │ 191                 │           202 │ 68.33408525668013  │ 59.43865183868777  │ 10                 │ 47                 │ 116                │ 49950127 │            0.00 │\n",
       "│ Officer_ID                       │ BIGINT      │ 0                       │ 62468               │         42764 │ 31592.886108217503 │ 18024.905276745692 │ 16307              │ 31680              │ 47389              │ 49950127 │            0.00 │\n",
       "│ PaymentIsOutstanding             │ BIGINT      │ 0                       │ 1                   │             2 │ 0.2783158489266704 │ 0.4481697682620207 │ 0                  │ 0                  │ 1                  │ 49950127 │            0.00 │\n",
       "├──────────────────────────────────┴─────────────┴─────────────────────────┴─────────────────────┴───────────────┴────────────────────┴────────────────────┴────────────────────┴────────────────────┴────────────────────┴──────────┴─────────────────┤\n",
       "│ 21 rows                                                                                                                                                                                                                                   12 columns │\n",
       "└──────────────────────────────────────────────────────────────────────────────────────────────────────────────────────────────────────────────────────────────────────────────────────────────────────────────────────────────────────────────────────┘"
      ]
     },
     "execution_count": 7,
     "metadata": {},
     "output_type": "execute_result"
    }
   ],
   "source": [
    "con.sql(\"SUMMARIZE ChicagoParkingTickets\")\n",
    "# con.sql(\"CREATE TABLE cpt_summary AS SELECT * FROM (SUMMARIZE ChicagoParkingTickets)\")"
   ]
  },
  {
   "cell_type": "code",
   "execution_count": 8,
   "metadata": {},
   "outputs": [
    {
     "data": {
      "text/plain": [
       "┌──────────────┐\n",
       "│ count_star() │\n",
       "│    int64     │\n",
       "├──────────────┤\n",
       "│     49950127 │\n",
       "└──────────────┘"
      ]
     },
     "execution_count": 8,
     "metadata": {},
     "output_type": "execute_result"
    }
   ],
   "source": [
    "con.sql(\"SELECT COUNT(*) FROM ChicagoParkingTickets\")"
   ]
  },
  {
   "cell_type": "code",
   "execution_count": 7,
   "metadata": {},
   "outputs": [
    {
     "data": {
      "text/plain": [
       "┌──────────────────────────────────┬─────────────┬─────────────────────────┬─────────────────────┬───────────────┬────────────────────┬─────────────────────┬────────────────────┬────────────────────┬────────────────────┬──────────┬─────────────────┐\n",
       "│           column_name            │ column_type │           min           │         max         │ approx_unique │        avg         │         std         │        q25         │        q50         │        q75         │  count   │ null_percentage │\n",
       "│             varchar              │   varchar   │         varchar         │       varchar       │     int64     │      varchar       │       varchar       │      varchar       │      varchar       │      varchar       │  int64   │  decimal(9,2)   │\n",
       "├──────────────────────────────────┼─────────────┼─────────────────────────┼─────────────────────┼───────────────┼────────────────────┼─────────────────────┼────────────────────┼────────────────────┼────────────────────┼──────────┼─────────────────┤\n",
       "│ Ticket_number                    │ BIGINT      │ 2557                    │ 90580856720         │      52704920 │ 3815828872.517416  │ 4477231828.538177   │ 45673568           │ 64127413           │ 9176027538         │ 49950127 │            0.00 │\n",
       "│ Issued_date                      │ VARCHAR     │ 1996-01-01 00:00:00     │ 2018-05-14 23:50:00 │       8464929 │ NULL               │ NULL                │ NULL               │ NULL               │ NULL               │ 49950127 │            0.00 │\n",
       "│ Community_Name                   │ VARCHAR     │ Albany Park             │ Woodlawn            │            74 │ NULL               │ NULL                │ NULL               │ NULL               │ NULL               │ 49950127 │            0.00 │\n",
       "│ Sector                           │ VARCHAR     │ Garfield Ridge (Midway) │ West Town           │            13 │ NULL               │ NULL                │ NULL               │ NULL               │ NULL               │ 49950127 │            0.00 │\n",
       "│ Side                             │ VARCHAR     │ Central                 │ West Side           │            10 │ NULL               │ NULL                │ NULL               │ NULL               │ NULL               │ 49950127 │            0.00 │\n",
       "│ Hardship_Index                   │ DOUBLE      │ 1.0                     │ 98.0                │            85 │ 37.93427808501868  │ 33.12894372120203   │ 5.073592310268037  │ 25.85327279932337  │ 72.33010345064179  │ 49950127 │            0.00 │\n",
       "│ Per_capita_income                │ DOUBLE      │ 8201.0                  │ 88669.0             │            74 │ 37515.03120810884  │ 24353.191868276775  │ 16245.769324152767 │ 29896.310411347244 │ 60031.01040701583  │ 49950127 │            0.00 │\n",
       "│ Percent_unemployed               │ DOUBLE      │ 4.7                     │ 35.9                │            60 │ 12.39383992962313  │ 7.013241440067469   │ 6.888417864210933  │ 9.915231427274273  │ 16.99942341721339  │ 49950127 │            0.00 │\n",
       "│ Percent_without_diploma          │ DOUBLE      │ 2.5                     │ 54.8                │            69 │ 17.49231103259303  │ 14.307773513704543  │ 3.6224674567241726 │ 13.939421133978154 │ 25.07071806633676  │ 49950127 │            0.00 │\n",
       "│ Percent_households_below_poverty │ DOUBLE      │ 3.3                     │ 56.5                │            52 │ 20.548777569750037 │ 8.954067503394231   │ 12.954510177988249 │ 18.38641645040191  │ 27.812751491017803 │ 49950127 │            0.00 │\n",
       "│ Neighborhood                     │ VARCHAR     │ A1                      │ WT                  │            90 │ NULL               │ NULL                │ NULL               │ NULL               │ NULL               │ 49950127 │            0.00 │\n",
       "│ Ward                             │ BIGINT      │ 1                       │ 50                  │            45 │ 26.73289060906692  │ 14.76025711935368   │ 14                 │ 28                 │ 42                 │ 49950127 │            0.00 │\n",
       "│ Tract                            │ DOUBLE      │ 10100.0                 │ 980100.0            │           809 │ 395846.38714522123 │ 302753.703184611    │ 81776.9658064232   │ 304961.72375177906 │ 699197.7684511936  │ 49950127 │            0.00 │\n",
       "│ ZIP                              │ BIGINT      │ 60601                   │ 60827               │            58 │ 60627.60636652636  │ 18.660760731252218  │ 60613              │ 60623              │ 60641              │ 49950127 │            0.00 │\n",
       "│ Police_District                  │ DOUBLE      │ 1.0                     │ 25.0                │            22 │ 12.468053315751954 │ 7.027663892740102   │ 7.944876580808236  │ 12.0               │ 18.0               │ 49950127 │            0.00 │\n",
       "│ Plate_Type                       │ VARCHAR     │ AFR                     │ VAN                 │            49 │ NULL               │ NULL                │ NULL               │ NULL               │ NULL               │ 49950127 │            1.16 │\n",
       "│ License_Plate_State              │ VARCHAR     │ AB                      │ ZZ                  │            71 │ NULL               │ NULL                │ NULL               │ NULL               │ NULL               │ 49950127 │            0.00 │\n",
       "│ Unit_ID                          │ BIGINT      │ 0                       │ 10002               │           227 │ 238.58432906486905 │ 246.55462595387155  │ 13                 │ 39                 │ 498                │ 49950127 │            0.00 │\n",
       "│ Violation_ID                     │ BIGINT      │ 0                       │ 191                 │           202 │ 68.33408525668013  │ 59.43865183868761   │ 10                 │ 47                 │ 116                │ 49950127 │            0.00 │\n",
       "│ Officer_ID                       │ BIGINT      │ 0                       │ 62468               │         42764 │ 31592.886108217503 │ 18024.905276745965  │ 16305              │ 31663              │ 47419              │ 49950127 │            0.00 │\n",
       "│ PaymentIsOutstanding             │ BIGINT      │ 0                       │ 1                   │             2 │ 0.2783158489266704 │ 0.44816976826202204 │ 0                  │ 0                  │ 1                  │ 49950127 │            0.00 │\n",
       "├──────────────────────────────────┴─────────────┴─────────────────────────┴─────────────────────┴───────────────┴────────────────────┴─────────────────────┴────────────────────┴────────────────────┴────────────────────┴──────────┴─────────────────┤\n",
       "│ 21 rows                                                                                                                                                                                                                                    12 columns │\n",
       "└───────────────────────────────────────────────────────────────────────────────────────────────────────────────────────────────────────────────────────────────────────────────────────────────────────────────────────────────────────────────────────┘"
      ]
     },
     "execution_count": 7,
     "metadata": {},
     "output_type": "execute_result"
    }
   ],
   "source": [
    "con.sql(\"SELECT * FROM cpt_summary\")"
   ]
  },
  {
   "cell_type": "code",
   "execution_count": 17,
   "metadata": {},
   "outputs": [
    {
     "data": {
      "text/plain": [
       "┌─────────────────┬─────────────────────┬────────────────────┐\n",
       "│ Police_District │ License_Plate_State │ TicketsOutstanding │\n",
       "│     double      │       varchar       │       int128       │\n",
       "├─────────────────┼─────────────────────┼────────────────────┤\n",
       "│             1.0 │ In-State            │            1073606 │\n",
       "│            10.0 │ In-State            │            1018027 │\n",
       "│            12.0 │ In-State            │             863646 │\n",
       "│            18.0 │ In-State            │             836144 │\n",
       "│             9.0 │ In-State            │             730582 │\n",
       "│             8.0 │ In-State            │             717649 │\n",
       "│            19.0 │ In-State            │             702865 │\n",
       "│            25.0 │ In-State            │             535055 │\n",
       "│            14.0 │ In-State            │             520815 │\n",
       "│            15.0 │ In-State            │             509890 │\n",
       "│              ·  │    ·                │                ·   │\n",
       "│              ·  │    ·                │                ·   │\n",
       "│              ·  │    ·                │                ·   │\n",
       "│             6.0 │ Out-of-State        │              35541 │\n",
       "│            25.0 │ Out-of-State        │              35208 │\n",
       "│            15.0 │ Out-of-State        │              27189 │\n",
       "│            11.0 │ Out-of-State        │              26311 │\n",
       "│             7.0 │ Out-of-State        │              25163 │\n",
       "│            16.0 │ Out-of-State        │              19435 │\n",
       "│             5.0 │ Out-of-State        │              18587 │\n",
       "│            22.0 │ Out-of-State        │              15045 │\n",
       "│            NULL │ In-State            │                 88 │\n",
       "│            NULL │ Out-of-State        │                 22 │\n",
       "├─────────────────┴─────────────────────┴────────────────────┤\n",
       "│ 46 rows (20 shown)                               3 columns │\n",
       "└────────────────────────────────────────────────────────────┘"
      ]
     },
     "execution_count": 17,
     "metadata": {},
     "output_type": "execute_result"
    }
   ],
   "source": [
    "con.sql(\"\"\"\n",
    "    SELECT\n",
    "        Police_District,\n",
    "        CASE WHEN License_Plate_State = 'IL' THEN 'In-State' ELSE 'Out-of-State' END AS License_Plate_State,\n",
    "        SUM(PaymentIsOutstanding) AS TicketsOutstanding\n",
    "    FROM ChicagoParkingTickets\n",
    "    GROUP BY\n",
    "            Police_District,\n",
    "            CASE WHEN License_Plate_State = 'IL' THEN 'In-State' ELSE 'Out-of-State' END\n",
    "    ORDER BY SUM(PaymentIsOutstanding) DESC\n",
    "\"\"\")"
   ]
  },
  {
   "cell_type": "code",
   "execution_count": 30,
   "metadata": {},
   "outputs": [
    {
     "data": {
      "text/plain": [
       "┌─────────────────┬──────────┬──────────────┐\n",
       "│ Police_District │ In-State │ Out-of-State │\n",
       "│     double      │  int128  │    int128    │\n",
       "├─────────────────┼──────────┼──────────────┤\n",
       "│             1.0 │  1073606 │       227079 │\n",
       "│             2.0 │   477357 │        72515 │\n",
       "│             3.0 │   418782 │        40902 │\n",
       "│             4.0 │   388914 │        37860 │\n",
       "│             5.0 │   250010 │        18587 │\n",
       "│             6.0 │   427142 │        35541 │\n",
       "│             7.0 │   432358 │        25163 │\n",
       "│             8.0 │   717649 │        67161 │\n",
       "│             9.0 │   730582 │        82071 │\n",
       "│            10.0 │  1018027 │        78570 │\n",
       "│            11.0 │   482732 │        26311 │\n",
       "│            12.0 │   863646 │       148139 │\n",
       "│            14.0 │   520815 │        85161 │\n",
       "│            15.0 │   509890 │        27189 │\n",
       "│            16.0 │   244237 │        19435 │\n",
       "│            17.0 │   393459 │        39429 │\n",
       "│            18.0 │   836144 │       280370 │\n",
       "│            19.0 │   702865 │       309716 │\n",
       "│            20.0 │   335344 │        58434 │\n",
       "│            22.0 │   219726 │        15045 │\n",
       "│            24.0 │   501290 │        92286 │\n",
       "│            25.0 │   535055 │        35208 │\n",
       "│            NULL │       88 │           22 │\n",
       "├─────────────────┴──────────┴──────────────┤\n",
       "│ 23 rows                         3 columns │\n",
       "└───────────────────────────────────────────┘"
      ]
     },
     "execution_count": 30,
     "metadata": {},
     "output_type": "execute_result"
    }
   ],
   "source": [
    "con.sql(\"\"\"\n",
    "    WITH records AS (\n",
    "    SELECT\n",
    "        Police_District,\n",
    "        CASE WHEN License_Plate_State = 'IL' THEN 'In-State' ELSE 'Out-of-State' END AS License_Plate_State,\n",
    "        SUM(PaymentIsOutstanding) AS TicketsOutstanding\n",
    "    FROM ChicagoParkingTickets\n",
    "    GROUP BY\n",
    "            Police_District,\n",
    "            CASE WHEN License_Plate_State = 'IL' THEN 'In-State' ELSE 'Out-of-State' END\n",
    "    )\n",
    "    PIVOT records\n",
    "    ON License_Plate_State\n",
    "    USING SUM(TicketsOutstanding)\n",
    "    ORDER BY Police_District\n",
    "\"\"\")"
   ]
  },
  {
   "cell_type": "code",
   "execution_count": 29,
   "metadata": {},
   "outputs": [
    {
     "data": {
      "text/plain": [
       "┌─────────────────────┬─────────┬────────┬────────┬────────┐\n",
       "│ License_Plate_State │   1.0   │  2.0   │  3.0   │  4.0   │\n",
       "│       varchar       │ int128  │ int128 │ int128 │ int128 │\n",
       "├─────────────────────┼─────────┼────────┼────────┼────────┤\n",
       "│ Out-of-State        │  227079 │  72515 │  40902 │  37860 │\n",
       "│ In-State            │ 1073606 │ 477357 │ 418782 │ 388914 │\n",
       "└─────────────────────┴─────────┴────────┴────────┴────────┘"
      ]
     },
     "execution_count": 29,
     "metadata": {},
     "output_type": "execute_result"
    }
   ],
   "source": [
    "con.sql(\"\"\"\n",
    "    WITH records AS (\n",
    "    SELECT\n",
    "        Police_District,\n",
    "        CASE WHEN License_Plate_State = 'IL' THEN 'In-State' ELSE 'Out-of-State' END AS License_Plate_State,\n",
    "        SUM(PaymentIsOutstanding) AS TicketsOutstanding\n",
    "    FROM ChicagoParkingTickets\n",
    "    GROUP BY\n",
    "            Police_District,\n",
    "            CASE WHEN License_Plate_State = 'IL' THEN 'In-State' ELSE 'Out-of-State' END\n",
    "    )\n",
    "    PIVOT records\n",
    "    ON Police_District IN (1.0, 2.0, 3.0, 4.0)\n",
    "    USING SUM(TicketsOutstanding)\n",
    "\"\"\")"
   ]
  },
  {
   "cell_type": "code",
   "execution_count": 40,
   "metadata": {},
   "outputs": [
    {
     "name": "stdout",
     "output_type": "stream",
     "text": [
      "┌─────────────────────┬─────────┬────────┬────────┬────────┐\n",
      "│ License_Plate_State │   1.0   │  2.0   │  3.0   │  4.0   │\n",
      "│       varchar       │ int128  │ int128 │ int128 │ int128 │\n",
      "├─────────────────────┼─────────┼────────┼────────┼────────┤\n",
      "│ AB                  │     156 │     79 │     27 │     13 │\n",
      "│ AK                  │     317 │    128 │     74 │     35 │\n",
      "│ AL                  │    1634 │    706 │    513 │    366 │\n",
      "│ AR                  │    1197 │    447 │    335 │    181 │\n",
      "│ AZ                  │    3248 │    974 │    621 │    341 │\n",
      "│ BC                  │     260 │     38 │      3 │      3 │\n",
      "│ CA                  │    9258 │   4620 │   1041 │    605 │\n",
      "│ CO                  │    2340 │    731 │    216 │     80 │\n",
      "│ CT                  │    1066 │    409 │     67 │     42 │\n",
      "│ DC                  │     192 │    135 │     17 │     11 │\n",
      "│ DE                  │     185 │    123 │     26 │     10 │\n",
      "│ FL                  │    6504 │   1671 │    680 │    352 │\n",
      "│ GA                  │    3640 │   1580 │    987 │    553 │\n",
      "│ GU                  │    NULL │      2 │   NULL │   NULL │\n",
      "│ HI                  │     142 │     28 │     11 │     30 │\n",
      "│ IA                  │   15969 │   5156 │   4301 │   5141 │\n",
      "│ ID                  │     207 │     50 │     12 │     16 │\n",
      "│ IL                  │ 1073606 │ 477357 │ 418782 │ 388914 │\n",
      "│ IN                  │   63560 │  18663 │  14656 │  19484 │\n",
      "│ KS                  │    1911 │    504 │    180 │     75 │\n",
      "│ KY                  │    2417 │    537 │    306 │    188 │\n",
      "│ LA                  │    1511 │    612 │    391 │    130 │\n",
      "│ MA                  │    1843 │   1586 │    169 │     68 │\n",
      "│ MB                  │      96 │     43 │     11 │      3 │\n",
      "│ MD                  │    1957 │    875 │    271 │     91 │\n",
      "│ ME                  │     256 │    178 │     53 │     17 │\n",
      "│ MI                  │   20788 │   4295 │   2240 │   1491 │\n",
      "│ MN                  │    7201 │   3045 │   1917 │   1220 │\n",
      "│ MO                  │    8145 │   1955 │    990 │    617 │\n",
      "│ MS                  │    1865 │    973 │    847 │    562 │\n",
      "│ MT                  │     347 │    119 │     22 │     20 │\n",
      "│ MX                  │     102 │     22 │      1 │     13 │\n",
      "│ NB                  │     260 │     70 │     42 │     33 │\n",
      "│ NC                  │    1907 │    910 │    395 │    217 │\n",
      "│ ND                  │     251 │     59 │     35 │     21 │\n",
      "│ NE                  │    1309 │    296 │    170 │     90 │\n",
      "│ NF                  │       9 │      6 │      1 │      8 │\n",
      "│ NH                  │     373 │    275 │     23 │      9 │\n",
      "│ NJ                  │    2833 │   1903 │    244 │     75 │\n",
      "│ NM                  │     829 │    204 │     62 │     33 │\n",
      "│ NS                  │      32 │      8 │      1 │      1 │\n",
      "│ NT                  │       2 │   NULL │   NULL │   NULL │\n",
      "│ NV                  │     744 │    237 │    115 │     73 │\n",
      "│ NY                  │    2439 │   1128 │    272 │    100 │\n",
      "│ OH                  │    9237 │   2182 │   1036 │    619 │\n",
      "│ OK                  │    1762 │    602 │    308 │    194 │\n",
      "│ ON                  │    2454 │    482 │     92 │     21 │\n",
      "│ OR                  │     767 │    326 │     62 │     30 │\n",
      "│ PA                  │    2437 │    920 │    223 │    127 │\n",
      "│ PE                  │      44 │      8 │      3 │      2 │\n",
      "│ PQ                  │      13 │      1 │   NULL │   NULL │\n",
      "│ PR                  │       2 │   NULL │   NULL │   NULL │\n",
      "│ QU                  │     248 │     42 │     10 │      6 │\n",
      "│ RI                  │     239 │     50 │     22 │     58 │\n",
      "│ SC                  │     879 │    260 │     96 │     68 │\n",
      "│ SD                  │     426 │    167 │     50 │     27 │\n",
      "│ TN                  │    4264 │   1519 │    925 │    567 │\n",
      "│ TX                  │    8739 │   3922 │   1569 │   1070 │\n",
      "│ US                  │      10 │      0 │      0 │      1 │\n",
      "│ UT                  │     396 │    148 │     47 │     54 │\n",
      "│ VA                  │    2119 │   1036 │    428 │    193 │\n",
      "│ VI                  │     128 │     52 │     13 │     10 │\n",
      "│ VT                  │     171 │    127 │     20 │      4 │\n",
      "│ WA                  │    1578 │    773 │    315 │    127 │\n",
      "│ WI                  │   19918 │   3979 │   3201 │   2019 │\n",
      "│ WV                  │     241 │    148 │     30 │     14 │\n",
      "│ WY                  │     234 │     46 │     28 │     14 │\n",
      "│ XX                  │       1 │   NULL │   NULL │   NULL │\n",
      "│ YT                  │       1 │   NULL │   NULL │   NULL │\n",
      "│ ZZ                  │    1469 │    345 │     79 │    217 │\n",
      "│ NULL                │       0 │      0 │      0 │      0 │\n",
      "├─────────────────────┴─────────┴────────┴────────┴────────┤\n",
      "│ 71 rows                                        5 columns │\n",
      "└──────────────────────────────────────────────────────────┘\n",
      "\n"
     ]
    }
   ],
   "source": [
    "con.sql(\"\"\"    \n",
    "    WITH records AS (\n",
    "        SELECT\n",
    "            Police_District,\n",
    "            License_Plate_State,\n",
    "            PaymentIsOutstanding\n",
    "        FROM ChicagoParkingTickets\n",
    "    )\n",
    "    PIVOT records\n",
    "    ON Police_District IN (1.0, 2.0, 3.0, 4.0)\n",
    "    USING SUM(PaymentIsOutstanding)\n",
    "    ORDER BY License_Plate_State\n",
    "\"\"\").show(max_rows=100)"
   ]
  },
  {
   "cell_type": "code",
   "execution_count": 43,
   "metadata": {},
   "outputs": [
    {
     "name": "stdout",
     "output_type": "stream",
     "text": [
      "┌─────────────────────┬───────────────────────────────┬─────────────────────┬───────────────────────────────┬─────────────────────┬───────────────────────────────┬─────────────────────┬───────────────────────────────┬─────────────────────┐\n",
      "│ License_Plate_State │ 1.0_sum(PaymentIsOutstanding) │ 1.0_max(Officer_ID) │ 2.0_sum(PaymentIsOutstanding) │ 2.0_max(Officer_ID) │ 3.0_sum(PaymentIsOutstanding) │ 3.0_max(Officer_ID) │ 4.0_sum(PaymentIsOutstanding) │ 4.0_max(Officer_ID) │\n",
      "│       varchar       │            int128             │        int64        │            int128             │        int64        │            int128             │        int64        │            int128             │        int64        │\n",
      "├─────────────────────┼───────────────────────────────┼─────────────────────┼───────────────────────────────┼─────────────────────┼───────────────────────────────┼─────────────────────┼───────────────────────────────┼─────────────────────┤\n",
      "│ AB                  │                           156 │               62090 │                            79 │               61491 │                            27 │               54798 │                            13 │               61491 │\n",
      "│ AK                  │                           317 │               62417 │                           128 │               62383 │                            74 │               61723 │                            35 │               59679 │\n",
      "│ AL                  │                          1634 │               62368 │                           706 │               62383 │                           513 │               62006 │                           366 │               62191 │\n",
      "│ AR                  │                          1197 │               62368 │                           447 │               61928 │                           335 │               61647 │                           181 │               61973 │\n",
      "│ AZ                  │                          3248 │               62417 │                           974 │               62172 │                           621 │               62065 │                           341 │               61965 │\n",
      "│ BC                  │                           260 │               62417 │                            38 │               60717 │                             3 │               59273 │                             3 │               54258 │\n",
      "│ CA                  │                          9258 │               62417 │                          4620 │               62461 │                          1041 │               61936 │                           605 │               61891 │\n",
      "│ CO                  │                          2340 │               62417 │                           731 │               62172 │                           216 │               61491 │                            80 │               62020 │\n",
      "│ CT                  │                          1066 │               62417 │                           409 │               62383 │                            67 │               61964 │                            42 │               61069 │\n",
      "│ DC                  │                           192 │               62090 │                           135 │               61973 │                            17 │               59679 │                            11 │               57736 │\n",
      "│ DE                  │                           185 │               62368 │                           123 │               61948 │                            26 │               59587 │                            10 │               57022 │\n",
      "│ FL                  │                          6504 │               62417 │                          1671 │               62417 │                           680 │               62246 │                           352 │               62356 │\n",
      "│ GA                  │                          3640 │               62458 │                          1580 │               62383 │                           987 │               61938 │                           553 │               62020 │\n",
      "│ GU                  │                          NULL │                NULL │                             2 │               43862 │                          NULL │                NULL │                          NULL │                NULL │\n",
      "│ HI                  │                           142 │               61633 │                            28 │               60717 │                            11 │               59270 │                            30 │               57436 │\n",
      "│ IA                  │                         15969 │               62417 │                          5156 │               62456 │                          4301 │               62406 │                          5141 │               62402 │\n",
      "│ ID                  │                           207 │               62368 │                            50 │               60717 │                            12 │               60712 │                            16 │               56296 │\n",
      "│ IL                  │                       1073606 │               62461 │                        477357 │               62461 │                        418782 │               62461 │                        388914 │               62468 │\n",
      "│ IN                  │                         63560 │               62418 │                         18663 │               62417 │                         14656 │               62458 │                         19484 │               62389 │\n",
      "│ KS                  │                          1911 │               62368 │                           504 │               62383 │                           180 │               61381 │                            75 │               61063 │\n",
      "│ KY                  │                          2417 │               62418 │                           537 │               62172 │                           306 │               61928 │                           188 │               61063 │\n",
      "│ LA                  │                          1511 │               62417 │                           612 │               62034 │                           391 │               61972 │                           130 │               61491 │\n",
      "│ MA                  │                          1843 │               62417 │                          1586 │               62171 │                           169 │               61698 │                            68 │               61499 │\n",
      "│ MB                  │                            96 │               62368 │                            43 │               60852 │                            11 │               59567 │                             3 │               59682 │\n",
      "│ MD                  │                          1957 │               62417 │                           875 │               62186 │                           271 │               61928 │                            91 │               60179 │\n",
      "│ ME                  │                           256 │               62417 │                           178 │               62383 │                            53 │               60157 │                            17 │               62297 │\n",
      "│ MI                  │                         20788 │               62458 │                          4295 │               62383 │                          2240 │               62244 │                          1491 │               62389 │\n",
      "│ MN                  │                          7201 │               62417 │                          3045 │               62417 │                          1917 │               62402 │                          1220 │               62375 │\n",
      "│ MO                  │                          8145 │               62422 │                          1955 │               62383 │                           990 │               62242 │                           617 │               62389 │\n",
      "│ MS                  │                          1865 │               62417 │                           973 │               62383 │                           847 │               62037 │                           562 │               62185 │\n",
      "│ MT                  │                           347 │               62418 │                           119 │               62034 │                            22 │               61046 │                            20 │               57438 │\n",
      "│ MX                  │                           102 │               62369 │                            22 │               61491 │                             1 │               60299 │                            13 │               58686 │\n",
      "│ NB                  │                           260 │               62417 │                            70 │               61948 │                            42 │               62128 │                            33 │               58686 │\n",
      "│ NC                  │                          1907 │               62418 │                           910 │               62383 │                           395 │               62037 │                           217 │               61499 │\n",
      "│ ND                  │                           251 │               62368 │                            59 │               61973 │                            35 │               59714 │                            21 │               60179 │\n",
      "│ NE                  │                          1309 │               62368 │                           296 │               62034 │                           170 │               61850 │                            90 │               62291 │\n",
      "│ NF                  │                             9 │               53197 │                             6 │               51698 │                             1 │               31270 │                             8 │               58686 │\n",
      "│ NH                  │                           373 │               62172 │                           275 │               61948 │                            23 │               59587 │                             9 │               59587 │\n",
      "│ NJ                  │                          2833 │               62417 │                          1903 │               62383 │                           244 │               61972 │                            75 │               61965 │\n",
      "│ NM                  │                           829 │               62417 │                           204 │               62172 │                            62 │               61736 │                            33 │               61589 │\n",
      "│ NS                  │                            32 │               62368 │                             8 │               60852 │                             1 │               15378 │                             1 │               31646 │\n",
      "│ NT                  │                             2 │               10908 │                          NULL │                NULL │                          NULL │                NULL │                          NULL │                NULL │\n",
      "│ NV                  │                           744 │               62368 │                           237 │               62383 │                           115 │               62417 │                            73 │               60179 │\n",
      "│ NY                  │                          2439 │               62417 │                          1128 │               62383 │                           272 │               62171 │                           100 │               61762 │\n",
      "│ OH                  │                          9237 │               62418 │                          2182 │               62389 │                          1036 │               62195 │                           619 │               61973 │\n",
      "│ OK                  │                          1762 │               62417 │                           602 │               62172 │                           308 │               62309 │                           194 │               62389 │\n",
      "│ ON                  │                          2454 │               62417 │                           482 │               62383 │                            92 │               60132 │                            21 │               61935 │\n",
      "│ OR                  │                           767 │               62418 │                           326 │               62383 │                            62 │               61589 │                            30 │               61525 │\n",
      "│ PA                  │                          2437 │               62417 │                           920 │               62383 │                           223 │               62171 │                           127 │               61476 │\n",
      "│ PE                  │                            44 │               61589 │                             8 │               61731 │                             3 │               54258 │                             2 │               33474 │\n",
      "│ PQ                  │                            13 │               54013 │                             1 │               19710 │                          NULL │                NULL │                          NULL │                NULL │\n",
      "│ PR                  │                             2 │               56349 │                          NULL │                NULL │                          NULL │                NULL │                          NULL │                NULL │\n",
      "│ QU                  │                           248 │               62417 │                            42 │               59587 │                            10 │               59346 │                             6 │               59270 │\n",
      "│ RI                  │                           239 │               62368 │                            50 │               62398 │                            22 │               61633 │                            58 │               61360 │\n",
      "│ SC                  │                           879 │               62369 │                           260 │               62383 │                            96 │               60043 │                            68 │               61491 │\n",
      "│ SD                  │                           426 │               62368 │                           167 │               62102 │                            50 │               60717 │                            27 │               58686 │\n",
      "│ TN                  │                          4264 │               62417 │                          1519 │               62383 │                           925 │               62291 │                           567 │               62093 │\n",
      "│ TX                  │                          8739 │               62417 │                          3922 │               62383 │                          1569 │               62417 │                          1070 │               62383 │\n",
      "│ US                  │                            10 │               58786 │                             0 │               41905 │                             0 │               37135 │                             1 │               42386 │\n",
      "│ UT                  │                           396 │               62003 │                           148 │               61491 │                            47 │               61723 │                            54 │               60814 │\n",
      "│ VA                  │                          2119 │               62418 │                          1036 │               62368 │                           428 │               61736 │                           193 │               62006 │\n",
      "│ VI                  │                           128 │               61696 │                            52 │               60320 │                            13 │               57454 │                            10 │               58686 │\n",
      "│ VT                  │                           171 │               62417 │                           127 │               62171 │                            20 │               58686 │                             4 │               59679 │\n",
      "│ WA                  │                          1578 │               62368 │                           773 │               61973 │                           315 │               61647 │                           127 │               61546 │\n",
      "│ WI                  │                         19918 │               62418 │                          3979 │               62398 │                          3201 │               62068 │                          2019 │               62389 │\n",
      "│ WV                  │                           241 │               62003 │                           148 │               61948 │                            30 │               60924 │                            14 │               57436 │\n",
      "│ WY                  │                           234 │               62250 │                            46 │               61948 │                            28 │               59587 │                            14 │               60856 │\n",
      "│ XX                  │                             1 │               58510 │                          NULL │                NULL │                          NULL │                NULL │                          NULL │                NULL │\n",
      "│ YT                  │                             1 │               20750 │                          NULL │                NULL │                          NULL │                NULL │                          NULL │                NULL │\n",
      "│ ZZ                  │                          1469 │               62417 │                           345 │               61972 │                            79 │               60693 │                           217 │               61935 │\n",
      "│ NULL                │                             0 │               62073 │                             0 │               61879 │                             0 │               59204 │                             0 │               61281 │\n",
      "├─────────────────────┴───────────────────────────────┴─────────────────────┴───────────────────────────────┴─────────────────────┴───────────────────────────────┴─────────────────────┴───────────────────────────────┴─────────────────────┤\n",
      "│ 71 rows                                                                                                                                                                                                                           9 columns │\n",
      "└─────────────────────────────────────────────────────────────────────────────────────────────────────────────────────────────────────────────────────────────────────────────────────────────────────────────────────────────────────────────┘\n",
      "\n"
     ]
    }
   ],
   "source": [
    "con.sql(\"\"\"    \n",
    "    WITH records AS (\n",
    "        SELECT\n",
    "            Police_District,\n",
    "            Officer_ID,\n",
    "            License_Plate_State,\n",
    "            PaymentIsOutstanding\n",
    "        FROM ChicagoParkingTickets\n",
    "    )\n",
    "    PIVOT records\n",
    "    ON Police_District IN (1.0, 2.0, 3.0, 4.0)\n",
    "    USING SUM(PaymentIsOutstanding), MAX(Officer_ID)\n",
    "    ORDER BY License_Plate_State\n",
    "\"\"\").show(max_rows=100)"
   ]
  },
  {
   "cell_type": "code",
   "execution_count": 50,
   "metadata": {},
   "outputs": [
    {
     "name": "stdout",
     "output_type": "stream",
     "text": [
      "┌─────────────────────┬─────────────────┬──────────────────────┐\n",
      "│ License_Plate_State │ Police_District │ PaymentIsOutstanding │\n",
      "│       varchar       │     varchar     │        int128        │\n",
      "├─────────────────────┼─────────────────┼──────────────────────┤\n",
      "│ KS                  │ 1.0             │                 1911 │\n",
      "│ OR                  │ 1.0             │                  767 │\n",
      "│ NF                  │ 1.0             │                    9 │\n",
      "│ CT                  │ 1.0             │                 1066 │\n",
      "│ AK                  │ 1.0             │                  317 │\n",
      "│ NC                  │ 1.0             │                 1907 │\n",
      "│ CO                  │ 1.0             │                 2340 │\n",
      "│ VA                  │ 1.0             │                 2119 │\n",
      "│ TN                  │ 1.0             │                 4264 │\n",
      "│ GA                  │ 1.0             │                 3640 │\n",
      "│ NS                  │ 1.0             │                   32 │\n",
      "│ US                  │ 1.0             │                   10 │\n",
      "│ MA                  │ 1.0             │                 1843 │\n",
      "│ WA                  │ 1.0             │                 1578 │\n",
      "│ YT                  │ 1.0             │                    1 │\n",
      "│ OK                  │ 1.0             │                 1762 │\n",
      "│ MX                  │ 1.0             │                  102 │\n",
      "│ MO                  │ 1.0             │                 8145 │\n",
      "│ TX                  │ 1.0             │                 8739 │\n",
      "│ CA                  │ 1.0             │                 9258 │\n",
      "│ MD                  │ 1.0             │                 1957 │\n",
      "│ WV                  │ 1.0             │                  241 │\n",
      "│ HI                  │ 1.0             │                  142 │\n",
      "│ NE                  │ 1.0             │                 1309 │\n",
      "│ IN                  │ 1.0             │                63560 │\n",
      "│ NV                  │ 1.0             │                  744 │\n",
      "│ AZ                  │ 1.0             │                 3248 │\n",
      "│ RI                  │ 1.0             │                  239 │\n",
      "│ ZZ                  │ 1.0             │                 1469 │\n",
      "│ MB                  │ 1.0             │                   96 │\n",
      "│ IL                  │ 1.0             │              1073606 │\n",
      "│ FL                  │ 1.0             │                 6504 │\n",
      "│ NULL                │ 1.0             │                    0 │\n",
      "│ VT                  │ 1.0             │                  171 │\n",
      "│ NB                  │ 1.0             │                  260 │\n",
      "│ NT                  │ 1.0             │                    2 │\n",
      "│ ME                  │ 1.0             │                  256 │\n",
      "│ WI                  │ 1.0             │                19918 │\n",
      "│ OH                  │ 1.0             │                 9237 │\n",
      "│ AL                  │ 1.0             │                 1634 │\n",
      "│ NM                  │ 1.0             │                  829 │\n",
      "│ UT                  │ 1.0             │                  396 │\n",
      "│ IA                  │ 1.0             │                15969 │\n",
      "│ PQ                  │ 1.0             │                   13 │\n",
      "│ MS                  │ 1.0             │                 1865 │\n",
      "│ NH                  │ 1.0             │                  373 │\n",
      "│ QU                  │ 1.0             │                  248 │\n",
      "│ PR                  │ 1.0             │                    2 │\n",
      "│ XX                  │ 1.0             │                    1 │\n",
      "│ DC                  │ 1.0             │                  192 │\n",
      "│ ·                   │  ·              │                    · │\n",
      "│ ·                   │  ·              │                    · │\n",
      "│ ·                   │  ·              │                    · │\n",
      "│ NM                  │ 4.0             │                   33 │\n",
      "│ MO                  │ 4.0             │                  617 │\n",
      "│ MB                  │ 4.0             │                    3 │\n",
      "│ MD                  │ 4.0             │                   91 │\n",
      "│ OR                  │ 4.0             │                   30 │\n",
      "│ CO                  │ 4.0             │                   80 │\n",
      "│ NE                  │ 4.0             │                   90 │\n",
      "│ LA                  │ 4.0             │                  130 │\n",
      "│ WI                  │ 4.0             │                 2019 │\n",
      "│ IN                  │ 4.0             │                19484 │\n",
      "│ HI                  │ 4.0             │                   30 │\n",
      "│ BC                  │ 4.0             │                    3 │\n",
      "│ AZ                  │ 4.0             │                  341 │\n",
      "│ US                  │ 4.0             │                    1 │\n",
      "│ NH                  │ 4.0             │                    9 │\n",
      "│ KY                  │ 4.0             │                  188 │\n",
      "│ ID                  │ 4.0             │                   16 │\n",
      "│ NC                  │ 4.0             │                  217 │\n",
      "│ AB                  │ 4.0             │                   13 │\n",
      "│ MX                  │ 4.0             │                   13 │\n",
      "│ KS                  │ 4.0             │                   75 │\n",
      "│ MN                  │ 4.0             │                 1220 │\n",
      "│ AR                  │ 4.0             │                  181 │\n",
      "│ FL                  │ 4.0             │                  352 │\n",
      "│ ME                  │ 4.0             │                   17 │\n",
      "│ DC                  │ 4.0             │                   11 │\n",
      "│ QU                  │ 4.0             │                    6 │\n",
      "│ OH                  │ 4.0             │                  619 │\n",
      "│ ND                  │ 4.0             │                   21 │\n",
      "│ SC                  │ 4.0             │                   68 │\n",
      "│ TN                  │ 4.0             │                  567 │\n",
      "│ MS                  │ 4.0             │                  562 │\n",
      "│ IL                  │ 4.0             │               388914 │\n",
      "│ GA                  │ 4.0             │                  553 │\n",
      "│ PA                  │ 4.0             │                  127 │\n",
      "│ IA                  │ 4.0             │                 5141 │\n",
      "│ MA                  │ 4.0             │                   68 │\n",
      "│ MI                  │ 4.0             │                 1491 │\n",
      "│ ON                  │ 4.0             │                   21 │\n",
      "│ VA                  │ 4.0             │                  193 │\n",
      "│ NY                  │ 4.0             │                  100 │\n",
      "│ PE                  │ 4.0             │                    2 │\n",
      "│ NS                  │ 4.0             │                    1 │\n",
      "│ NJ                  │ 4.0             │                   75 │\n",
      "│ WA                  │ 4.0             │                  127 │\n",
      "│ CT                  │ 4.0             │                   42 │\n",
      "│ RI                  │ 4.0             │                   58 │\n",
      "│ ZZ                  │ 4.0             │                  217 │\n",
      "│ UT                  │ 4.0             │                   54 │\n",
      "│ CA                  │ 4.0             │                  605 │\n",
      "├─────────────────────┴─────────────────┴──────────────────────┤\n",
      "│ 267 rows (100 shown)                               3 columns │\n",
      "└──────────────────────────────────────────────────────────────┘\n",
      "\n"
     ]
    }
   ],
   "source": [
    "con.sql(\"\"\"    \n",
    "    WITH records AS (\n",
    "        SELECT\n",
    "            Police_District,\n",
    "            License_Plate_State,\n",
    "            PaymentIsOutstanding\n",
    "        FROM ChicagoParkingTickets\n",
    "    ),\n",
    "    pivoted AS (\n",
    "        PIVOT records\n",
    "        ON Police_District IN (1.0, 2.0, 3.0, 4.0)\n",
    "        USING SUM(PaymentIsOutstanding)\n",
    "    )\n",
    "    UNPIVOT pivoted\n",
    "    ON COLUMNS(* EXCLUDE(License_Plate_State))\n",
    "    INTO\n",
    "        NAME Police_District\n",
    "        VALUE PaymentIsOutstanding\n",
    "    ORDER BY Police_District ASC\n",
    "\"\"\").show(max_rows=100)"
   ]
  },
  {
   "cell_type": "code",
   "execution_count": null,
   "metadata": {},
   "outputs": [
    {
     "data": {
      "text/plain": [
       "┌────────┬─────────────────────┬────────────────────┐\n",
       "│   pd   │ License_Plate_State │ TicketsOutstanding │\n",
       "│ double │       varchar       │       int128       │\n",
       "├────────┼─────────────────────┼────────────────────┤\n",
       "│    1.0 │ In-State            │            1073606 │\n",
       "│    2.0 │ In-State            │             477357 │\n",
       "│    3.0 │ In-State            │             418782 │\n",
       "│    4.0 │ In-State            │             388914 │\n",
       "│    1.0 │ Out-of-State        │             227079 │\n",
       "│    2.0 │ Out-of-State        │              72515 │\n",
       "│    3.0 │ Out-of-State        │              40902 │\n",
       "│    4.0 │ Out-of-State        │              37860 │\n",
       "└────────┴─────────────────────┴────────────────────┘"
      ]
     },
     "execution_count": 51,
     "metadata": {},
     "output_type": "execute_result"
    }
   ],
   "source": [
    "# Aliases in WHERE/GROUP BY/HAVING clauses\n",
    "# CANNOT be used in JOIN-ON clause!\n",
    "con.sql(\"\"\"\n",
    "    SELECT\n",
    "        Police_District AS pd,\n",
    "        CASE WHEN License_Plate_State = 'IL' THEN 'In-State' ELSE 'Out-of-State' END AS License_Plate_State,\n",
    "        SUM(PaymentIsOutstanding) AS TicketsOutstanding\n",
    "    FROM ChicagoParkingTickets\n",
    "    WHERE\n",
    "        pd IN (1.0, 2.0, 3.0, 4.0)\n",
    "    GROUP BY\n",
    "        Police_District,\n",
    "        CASE WHEN License_Plate_State = 'IL' THEN 'In-State' ELSE 'Out-of-State' END\n",
    "    ORDER BY SUM(PaymentIsOutstanding) DESC\n",
    "\"\"\")"
   ]
  },
  {
   "cell_type": "code",
   "execution_count": null,
   "metadata": {},
   "outputs": [
    {
     "data": {
      "text/plain": [
       "┌────────┬───────────────────┬────────────────────┬─────────────────────────┬──────────────────────────────────┐\n",
       "│   pd   │ Per_capita_income │ Percent_unemployed │ Percent_without_diploma │ Percent_households_below_poverty │\n",
       "│ double │      double       │       double       │         double          │              double              │\n",
       "├────────┼───────────────────┼────────────────────┼─────────────────────────┼──────────────────────────────────┤\n",
       "│    1.0 │           65526.0 │                5.7 │                     3.1 │                             14.7 │\n",
       "│    1.0 │           65526.0 │                5.7 │                     3.1 │                             14.7 │\n",
       "│    1.0 │           65526.0 │                5.7 │                     3.1 │                             14.7 │\n",
       "│    1.0 │           59077.0 │                4.9 │                     7.4 │                             13.8 │\n",
       "│    1.0 │           65526.0 │                5.7 │                     3.1 │                             14.7 │\n",
       "│    1.0 │           65526.0 │                5.7 │                     3.1 │                             14.7 │\n",
       "│    1.0 │           65526.0 │                5.7 │                     3.1 │                             14.7 │\n",
       "│    1.0 │           65526.0 │                5.7 │                     3.1 │                             14.7 │\n",
       "│    1.0 │           65526.0 │                5.7 │                     3.1 │                             14.7 │\n",
       "│    1.0 │           65526.0 │                5.7 │                     3.1 │                             14.7 │\n",
       "├────────┴───────────────────┴────────────────────┴─────────────────────────┴──────────────────────────────────┤\n",
       "│ 10 rows                                                                                            5 columns │\n",
       "└──────────────────────────────────────────────────────────────────────────────────────────────────────────────┘"
      ]
     },
     "execution_count": 60,
     "metadata": {},
     "output_type": "execute_result"
    }
   ],
   "source": [
    "# COLUMNS() and lambda expressions\n",
    "# NOTE: cannot use COLUMNS() in GROUP BY clause\n",
    "con.sql(\"\"\"\n",
    "    SELECT\n",
    "        Police_District AS pd,\n",
    "        COLUMNS(col -> col LIKE 'Per%')\n",
    "    FROM ChicagoParkingTickets\n",
    "    WHERE\n",
    "        pd IN (1.0, 2.0, 3.0, 4.0)\n",
    "    LIMIT 10\n",
    "\"\"\")"
   ]
  },
  {
   "cell_type": "code",
   "execution_count": 69,
   "metadata": {},
   "outputs": [
    {
     "data": {
      "text/plain": [
       "┌─────────────────┬─────────────────┐\n",
       "│     Sector      │  Sector_upper   │\n",
       "│     varchar     │     varchar     │\n",
       "├─────────────────┼─────────────────┤\n",
       "│ Loop            │ LOOP            │\n",
       "│ Loop            │ LOOP            │\n",
       "│ Loop            │ LOOP            │\n",
       "│ Near South Side │ NEAR_SOUTH_SIDE │\n",
       "│ Loop            │ LOOP            │\n",
       "│ Loop            │ LOOP            │\n",
       "│ Loop            │ LOOP            │\n",
       "│ Loop            │ LOOP            │\n",
       "│ Loop            │ LOOP            │\n",
       "│ Loop            │ LOOP            │\n",
       "├─────────────────┴─────────────────┤\n",
       "│ 10 rows                 2 columns │\n",
       "└───────────────────────────────────┘"
      ]
     },
     "execution_count": 69,
     "metadata": {},
     "output_type": "execute_result"
    }
   ],
   "source": [
    "# Scalar function chaining and trailing commas\n",
    "con.sql(\"\"\"\n",
    "    SELECT\n",
    "        Sector,\n",
    "        Sector.upper().replace(' ', '_').trim() AS Sector_upper,\n",
    "    FROM ChicagoParkingTickets\n",
    "    WHERE\n",
    "        Police_District IN (1.0, 2.0, 3.0, 4.0)\n",
    "    LIMIT 10\n",
    "\"\"\")"
   ]
  },
  {
   "cell_type": "code",
   "execution_count": null,
   "metadata": {},
   "outputs": [],
   "source": []
  },
  {
   "cell_type": "code",
   "execution_count": null,
   "metadata": {},
   "outputs": [],
   "source": []
  },
  {
   "cell_type": "code",
   "execution_count": null,
   "metadata": {},
   "outputs": [],
   "source": []
  },
  {
   "cell_type": "code",
   "execution_count": null,
   "metadata": {},
   "outputs": [],
   "source": []
  },
  {
   "cell_type": "code",
   "execution_count": null,
   "metadata": {},
   "outputs": [],
   "source": []
  },
  {
   "cell_type": "code",
   "execution_count": 70,
   "metadata": {},
   "outputs": [],
   "source": [
    "con.close()"
   ]
  },
  {
   "cell_type": "code",
   "execution_count": null,
   "metadata": {},
   "outputs": [
    {
     "ename": "ConnectionException",
     "evalue": "Connection Error: Connection already closed!",
     "output_type": "error",
     "traceback": [
      "\u001b[31m---------------------------------------------------------------------------\u001b[39m",
      "\u001b[31mConnectionException\u001b[39m                       Traceback (most recent call last)",
      "\u001b[36mCell\u001b[39m\u001b[36m \u001b[39m\u001b[32mIn[26]\u001b[39m\u001b[32m, line 1\u001b[39m\n\u001b[32m----> \u001b[39m\u001b[32m1\u001b[39m \u001b[43mcon\u001b[49m\u001b[43m.\u001b[49m\u001b[43mtable\u001b[49m\u001b[43m(\u001b[49m\u001b[33;43m\"\u001b[39;49m\u001b[33;43mduckdbdata/ChicagoParkingTickets.parquet\u001b[39;49m\u001b[33;43m\"\u001b[39;49m\u001b[43m)\u001b[49m.show()\n\u001b[32m      2\u001b[39m con.sql(\u001b[33m\"\u001b[39m\u001b[33mDESCRIBE \u001b[39m\u001b[33m'\u001b[39m\u001b[33mduckdbdata/ChicagoParkingTickets.parquet\u001b[39m\u001b[33m'\u001b[39m\u001b[33m\"\u001b[39m)\n\u001b[32m      3\u001b[39m \u001b[38;5;66;03m# TODO: show loading data into duckdb table\u001b[39;00m\n",
      "\u001b[31mConnectionException\u001b[39m: Connection Error: Connection already closed!"
     ]
    }
   ],
   "source": [
    "con.table(\"duckdbdata/ChicagoParkingTickets.parquet\").show()\n",
    "con.sql(\"DESCRIBE 'duckdbdata/ChicagoParkingTickets.parquet'\")\n",
    "# TODO: show loading data into duckdb table\n",
    "con.close()\n",
    "\n",
    "# TODO: Replicate SQL Server schema for Chicago Parking Tickets\n",
    "# TODO: Try out a variety of queries\n",
    "# Standard operations\n",
    "\n",
    "# TODO: functionality not in T-SQL\n",
    "\n",
    "\n",
    "# COPY\n",
    "# Friendly SQL\n",
    "# Special join types\n",
    "\n",
    "# TODO: Demo querying a Pandas DataFrame\n",
    "# TODO: Demo querying a Polars DataFrame\n",
    "\n",
    "# TODO: Demo on deleting data and vacuuming\n",
    "\n",
    "# TODO: Demo on indexing techniques\n",
    "\n",
    "# TODO: Come up with specific extensions to install\n",
    "# TODO: Demo on installing extensions\n",
    "\n",
    "# TODO: SET, PRAGMA, and secrets\n",
    "\n",
    "# TODO: Demo Explain plans"
   ]
  }
 ],
 "metadata": {
  "kernelspec": {
   "display_name": ".venv",
   "language": "python",
   "name": "python3"
  },
  "language_info": {
   "codemirror_mode": {
    "name": "ipython",
    "version": 3
   },
   "file_extension": ".py",
   "mimetype": "text/x-python",
   "name": "python",
   "nbconvert_exporter": "python",
   "pygments_lexer": "ipython3",
   "version": "3.12.3"
  }
 },
 "nbformat": 4,
 "nbformat_minor": 2
}
